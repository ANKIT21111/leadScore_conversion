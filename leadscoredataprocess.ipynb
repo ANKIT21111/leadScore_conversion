{
 "cells": [
  {
   "cell_type": "markdown",
   "id": "eadc6f94",
   "metadata": {},
   "source": [
    "# LEAD SCORE CONVERSION "
   ]
  },
  {
   "cell_type": "code",
   "execution_count": 1,
   "id": "1fb39120",
   "metadata": {},
   "outputs": [],
   "source": [
    "import warnings\n",
    "warnings.filterwarnings('ignore')"
   ]
  },
  {
   "cell_type": "code",
   "execution_count": null,
   "id": "5f559685",
   "metadata": {},
   "outputs": [],
   "source": []
  }
 ],
 "metadata": {
  "kernelspec": {
   "display_name": "Python 3 (ipykernel)",
   "language": "python",
   "name": "python3"
  },
  "language_info": {
   "codemirror_mode": {
    "name": "ipython",
    "version": 3
   },
   "file_extension": ".py",
   "mimetype": "text/x-python",
   "name": "python",
   "nbconvert_exporter": "python",
   "pygments_lexer": "ipython3",
   "version": "3.10.9"
  }
 },
 "nbformat": 4,
 "nbformat_minor": 5
}
